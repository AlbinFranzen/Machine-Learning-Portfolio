{
 "cells": [
  {
   "cell_type": "markdown",
   "metadata": {},
   "source": [
    "# Statistical Inference\n",
    "\n",
    "In this notebook we will be looking if a relationship exists between variables using statistical methods.\n",
    "\n",
    "## Hypothesis Tests\n",
    "\n",
    "Hypothesis tests are tests which determines whether there is a relationship between variables. The *null hypothesis* is defined as:\n",
    "\n",
    "$H_0: \\text{There is no relationship between X and y}$\n",
    "\n",
    "The *alternative hypothesis* is defined as:\n",
    "\n",
    "$H_{\\alpha}: \\text{There is some relationship between X and y}$\n",
    "\n",
    "For simple linear regression this coincides with testing whether $\\theta_1=0$ because if $\\theta_1$ is 0 then there is no linear relation and X doesn't change with different y.\n",
    "\n",
    "## t-statistic\n",
    "\n",
    "In practice we want to how know confident we should be that $\\theta_1=0$. This can be done using the *t-statistic* which is defined as:\n",
    "\n",
    "\\begin{equation*}\n",
    "t = \\frac{\\theta_1-0}{\\text{SE}(\\theta_1)}\n",
    "\\end{equation*}\n",
    "\n",
    "This is essentially how many standard deviations that $\\theta_1$ is from 0. \n",
    "\n",
    "## p-value\n",
    "\n",
    "The p value is simply the probability of observing a value larger than |t| which can be found using the area under a normal distribution of mean 0 and standard deviation of 1. If the p-value is small then it is unlikely for there to be a relationship between the predictor and responder due to chance. This is called rejecting the null hypothesis. This is usually done when p<1% or p<5%. \n",
    "\n",
    "Now lets do a hypothesis test for [Simple Linear Regression](https://github.com/AlbinFranzen/Machine-Learning-Portfolio/blob/master/ML%20algorithms%20from%20scratch/Supervised%20Learning/Regression/Simple%20Linear%20Regression.ipynb):"
   ]
  },
  {
   "cell_type": "code",
   "execution_count": 1,
   "metadata": {},
   "outputs": [],
   "source": [
    "import numpy as np\n",
    "np.random.seed(42)\n",
    "\n",
    "X = 2 * np.random.rand(100,1)\n",
    "y = 4 + 3 * X + np.random.randn(100,1)"
   ]
  },
  {
   "cell_type": "code",
   "execution_count": 42,
   "metadata": {},
   "outputs": [],
   "source": [
    "from sklearn.linear_model import LinearRegression\n",
    "import scipy.stats as stats\n",
    "\n",
    "lin_reg = LinearRegression() #apply model and make predictions\n",
    "lin_reg.fit(X, y)\n",
    "y_pred = lin_reg.predict(X)\n",
    "thetas = np.array([lin_reg.intercept_,lin_reg.coef_]) #get thetas\n",
    "\n",
    "X_b = np.c_[ np.ones(( 100, 1)), X]  \n",
    "sigma_squared = 1/(len(y)-2)*((y-y_pred)**2).sum() \n",
    "var_cov_matrix = sigma_squared * np.linalg.inv(X_b.T.dot(X_b)) \n",
    "standard_errors = np.sqrt(np.diagonal(var_cov_matrix)).reshape(-1,1) #get standard errors\n",
    "\n",
    "t_stats = np.divide(thetas,standard_errors) #get t-statistic\n",
    "\n",
    "distributer = lambda x: 1-stats.norm.cdf(x)\n",
    "vfunc = np.vectorize(distributer)\n",
    "p_values = vfunc(t_stats) #get p-values"
   ]
  },
  {
   "cell_type": "code",
   "execution_count": 69,
   "metadata": {},
   "outputs": [
    {
     "data": {
      "text/html": [
       "<style  type=\"text/css\" >\n",
       "</style><table id=\"T_c3bf8106_7c96_11ea_9f85_d4619d2a6998\" ><thead>    <tr>        <th class=\"col_heading level0 col0\" >Coefficient</th>        <th class=\"col_heading level0 col1\" >Standard Error</th>        <th class=\"col_heading level0 col2\" >t-statistic</th>        <th class=\"col_heading level0 col3\" >p_value</th>    </tr></thead><tbody>\n",
       "                <tr>\n",
       "                                <td id=\"T_c3bf8106_7c96_11ea_9f85_d4619d2a6998row0_col0\" class=\"data row0 col0\" >4.215096</td>\n",
       "                        <td id=\"T_c3bf8106_7c96_11ea_9f85_d4619d2a6998row0_col1\" class=\"data row0 col1\" >0.170287</td>\n",
       "                        <td id=\"T_c3bf8106_7c96_11ea_9f85_d4619d2a6998row0_col2\" class=\"data row0 col2\" >24.752952</td>\n",
       "                        <td id=\"T_c3bf8106_7c96_11ea_9f85_d4619d2a6998row0_col3\" class=\"data row0 col3\" >0.000000</td>\n",
       "            </tr>\n",
       "            <tr>\n",
       "                                <td id=\"T_c3bf8106_7c96_11ea_9f85_d4619d2a6998row1_col0\" class=\"data row1 col0\" >2.770113</td>\n",
       "                        <td id=\"T_c3bf8106_7c96_11ea_9f85_d4619d2a6998row1_col1\" class=\"data row1 col1\" >0.153247</td>\n",
       "                        <td id=\"T_c3bf8106_7c96_11ea_9f85_d4619d2a6998row1_col2\" class=\"data row1 col2\" >18.076100</td>\n",
       "                        <td id=\"T_c3bf8106_7c96_11ea_9f85_d4619d2a6998row1_col3\" class=\"data row1 col3\" >0.000000</td>\n",
       "            </tr>\n",
       "    </tbody></table>"
      ],
      "text/plain": [
       "<pandas.io.formats.style.Styler at 0x120d87c90>"
      ]
     },
     "execution_count": 69,
     "metadata": {},
     "output_type": "execute_result"
    }
   ],
   "source": [
    "import pandas as pd\n",
    "\n",
    "df = pd.DataFrame(np.concatenate((thetas, standard_errors, t_stats, p_values),axis=1), \n",
    "                  columns=['Coefficient','Standard Error','t-statistic','p_value'])\n",
    "df.style.hide_index()"
   ]
  },
  {
   "cell_type": "markdown",
   "metadata": {},
   "source": [
    "Here we can see there is a very high probability that there is a relationship between x and y in this example which can be seen below:"
   ]
  },
  {
   "cell_type": "code",
   "execution_count": 70,
   "metadata": {},
   "outputs": [
    {
     "data": {
      "image/png": "[encoded data removed]",
      "text/plain": [
       "<Figure size 432x288 with 1 Axes>"
      ]
     },
     "metadata": {
      "needs_background": "light"
     },
     "output_type": "display_data"
    }
   ],
   "source": [
    "%matplotlib inline\n",
    "import matplotlib as mpl\n",
    "import matplotlib.pyplot as plt\n",
    "\n",
    "plt.plot(X, y, \"b.\")\n",
    "plt.xlabel(\"$x$\", fontsize=18)\n",
    "plt.ylabel(\"$y$\", rotation=0, fontsize=18)\n",
    "plt.axis([0, 2, 0, 15])\n",
    "plt.show()"
   ]
  },
  {
   "cell_type": "markdown",
   "metadata": {},
   "source": [
    "## F-statistic\n",
    "\n",
    "The t-statistic can be used to determine whether a single variable is statistically significant, the F-statistic determines whether a group of variables are statistically significant. "
   ]
  },
  {
   "cell_type": "code",
   "execution_count": null,
   "metadata": {},
   "outputs": [],
   "source": []
  }
 ],
 "metadata": {
  "kernelspec": {
   "display_name": "Python 3",
   "language": "python",
   "name": "python3"
  },
  "language_info": {
   "codemirror_mode": {
    "name": "ipython",
    "version": 3
   },
   "file_extension": ".py",
   "mimetype": "text/x-python",
   "name": "python",
   "nbconvert_exporter": "python",
   "pygments_lexer": "ipython3",
   "version": "3.7.5"
  }
 },
 "nbformat": 4,
 "nbformat_minor": 4
}
