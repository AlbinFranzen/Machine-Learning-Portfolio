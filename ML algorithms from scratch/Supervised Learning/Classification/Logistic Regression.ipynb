{
 "cells": [
  {
   "cell_type": "markdown",
   "metadata": {},
   "source": [
    "# Logistic Regression\n",
    "\n",
    "Logistic regression is used for classification to calculate the probability of an instance belonging to a certain class. We will start by using two classes which gives a Y value between 0 and 1: $p(X)=\\text{Pr}(Y=1|X)$\n",
    "\n",
    "However to find this probability a function ranging between 0 and 1 is needed and a simple function of this form is the *logistic function*:\n",
    "\n",
    "\\begin{equation*}\n",
    "p(X)=\\frac{e^{\\theta_0+\\theta_1 X}}{1+e^{\\theta_0+\\theta_1 X}}\n",
    "\\end{equation*}\n",
    "\n",
    "Here we can see the logistic 'S' curve:"
   ]
  },
  {
   "cell_type": "code",
   "execution_count": 1,
   "metadata": {},
   "outputs": [],
   "source": [
    "# to make this notebook's output stable across runs\n",
    "import numpy as np\n",
    "np.random.seed(42)\n",
    "\n",
    "# To plot pretty figures\n",
    "%matplotlib inline\n",
    "import matplotlib as mpl\n",
    "import matplotlib.pyplot as plt\n",
    "mpl.rc('axes', labelsize=14)\n",
    "mpl.rc('xtick', labelsize=12)\n",
    "mpl.rc('ytick', labelsize=12)"
   ]
  },
  {
   "cell_type": "code",
   "execution_count": 34,
   "metadata": {},
   "outputs": [],
   "source": [
    "X = np.linspace(-2,2,1000)\n",
    "y = np.exp(4*X)/(1+np.exp(4*X))"
   ]
  },
  {
   "cell_type": "code",
   "execution_count": 36,
   "metadata": {},
   "outputs": [
    {
     "data": {
      "image/png": "[encoded data removed]",
      "text/plain": [
       "<Figure size 432x288 with 1 Axes>"
      ]
     },
     "metadata": {
      "needs_background": "light"
     },
     "output_type": "display_data"
    }
   ],
   "source": [
    "%matplotlib inline\n",
    "import matplotlib as mpl\n",
    "import matplotlib.pyplot as plt\n",
    "\n",
    "plt.plot(X, y, \"b.\")\n",
    "plt.xlabel(\"$x$\", fontsize=18)\n",
    "plt.ylabel(\"$y$\", rotation=0, fontsize=18)\n",
    "plt.axis([-2, 2, 0, 1])\n",
    "plt.show()"
   ]
  },
  {
   "cell_type": "markdown",
   "metadata": {},
   "source": [
    "By rewriting our logistic function we can derive the following formula:\n",
    "    \n",
    "\\begin{equation*}\n",
    "\\log \\Bigg(\\frac{p(x}{1-p(x)}\\Bigg)=\\theta_0+\\theta_1 X\n",
    "\\end{equation*}\n",
    "\n",
    "Where the left hand term is the log of the odds which is called the *log-odds* or *logit*. The odds are ussually used in betting where higher odds means lower probability.\n",
    "\n",
    "## Estimating the Regression Coefficients with Gradient Descent\n",
    "\n",
    "Next we will try to find the thetas to create the logistic model. First lets generate some data:"
   ]
  },
  {
   "cell_type": "code",
   "execution_count": 63,
   "metadata": {},
   "outputs": [],
   "source": [
    "X_1 = 0 + np.random.rand(100,1)\n",
    "X_2 = 0.5 + np.random.rand(100,1)\n",
    "X = np.concatenate((X_1, X_2),axis=0)\n",
    "y_1 = np.zeros((100,1))\n",
    "y_2 = np.ones((100,1))\n",
    "y = np.concatenate((y_1, y_2),axis=0)"
   ]
  },
  {
   "cell_type": "code",
   "execution_count": 67,
   "metadata": {},
   "outputs": [
    {
     "data": {
      "image/png": "[encoded data removed]",
      "text/plain": [
       "<Figure size 432x288 with 1 Axes>"
      ]
     },
     "metadata": {
      "needs_background": "light"
     },
     "output_type": "display_data"
    }
   ],
   "source": [
    "%matplotlib inline\n",
    "import matplotlib as mpl\n",
    "import matplotlib.pyplot as plt\n",
    "\n",
    "plt.plot(X_1, y_1, \"b.\")\n",
    "plt.plot(X_2, y_2, \"r.\")\n",
    "plt.xlabel(\"$x$\", fontsize=18)\n",
    "plt.ylabel(\"$y$\", rotation=0, fontsize=18)\n",
    "plt.axis([0, 1.5, -0.1, 1.1])\n",
    "plt.show()"
   ]
  },
  {
   "cell_type": "markdown",
   "metadata": {},
   "source": [
    "Now we have our data with two classes: red and blue. "
   ]
  }
 ],
 "metadata": {
  "kernelspec": {
   "display_name": "Python 3",
   "language": "python",
   "name": "python3"
  },
  "language_info": {
   "codemirror_mode": {
    "name": "ipython",
    "version": 3
   },
   "file_extension": ".py",
   "mimetype": "text/x-python",
   "name": "python",
   "nbconvert_exporter": "python",
   "pygments_lexer": "ipython3",
   "version": "3.7.5"
  }
 },
 "nbformat": 4,
 "nbformat_minor": 4
}
